{
 "cells": [
  {
   "cell_type": "code",
   "execution_count": 3,
   "metadata": {},
   "outputs": [],
   "source": [
    "import os\n",
    "import pickle\n",
    "import pandas as pd\n",
    "import psycopg\n",
    "from dotenv import dotenv_values\n",
    "from sklearn.decomposition import PCA\n",
    "from sklearn.feature_extraction.text import TfidfVectorizer\n",
    "\n",
    "\n",
    "config = dotenv_values(\".env\")"
   ]
  },
  {
   "cell_type": "code",
   "execution_count": 4,
   "metadata": {},
   "outputs": [],
   "source": [
    "texts = []\n",
    "article_names = []\n",
    "\n",
    "with psycopg.connect(config[\"PG_URL\"]) as conn:\n",
    "    with conn.cursor() as cur:\n",
    "        cur.execute(\"SELECT name, content FROM unusual_search.articles\")\n",
    "        for article in cur.fetchall():\n",
    "            texts.append(article[1])\n",
    "            article_names.append(article[0])\n"
   ]
  },
  {
   "cell_type": "code",
   "execution_count": 5,
   "metadata": {},
   "outputs": [],
   "source": [
    "if os.path.exists('vectorizer.pkl'):\n",
    "    with open('vectorizer.pkl', 'rb') as f:\n",
    "        vectorizer = pickle.load(f)\n",
    "else:\n",
    "    vectorizer = TfidfVectorizer(stop_words='english', min_df=10)\n",
    "    vectorizer.fit(texts)\n",
    "    with open('vectorizer.pkl', 'wb') as f:\n",
    "        pickle.dump(vectorizer, f)\n"
   ]
  },
  {
   "cell_type": "code",
   "execution_count": 6,
   "metadata": {},
   "outputs": [],
   "source": [
    "vecs = vectorizer.transform(texts)"
   ]
  },
  {
   "cell_type": "code",
   "execution_count": 7,
   "metadata": {},
   "outputs": [
    {
     "name": "stdout",
     "output_type": "stream",
     "text": [
      "                                  00      000  001  002  004  007   01  017  \\\n",
      "52-hertz_whale               0.00000  0.00000  0.0  0.0  0.0  0.0  0.0  0.0   \n",
      "Bahia_incident               0.02132  0.00000  0.0  0.0  0.0  0.0  0.0  0.0   \n",
      "Arm-Fall-Off-Boy             0.00000  0.00589  0.0  0.0  0.0  0.0  0.0  0.0   \n",
      "Arrhichion                   0.00000  0.00000  0.0  0.0  0.0  0.0  0.0  0.0   \n",
      "Boston_Typewriter_Orchestra  0.00000  0.00000  0.0  0.0  0.0  0.0  0.0  0.0   \n",
      "\n",
      "                              02  025  ...  zoologist      zoom  zoos   zu  \\\n",
      "52-hertz_whale               0.0  0.0  ...        0.0  0.000000   0.0  0.0   \n",
      "Bahia_incident               0.0  0.0  ...        0.0  0.000000   0.0  0.0   \n",
      "Arm-Fall-Off-Boy             0.0  0.0  ...        0.0  0.008302   0.0  0.0   \n",
      "Arrhichion                   0.0  0.0  ...        0.0  0.000000   0.0  0.0   \n",
      "Boston_Typewriter_Orchestra  0.0  0.0  ...        0.0  0.000000   0.0  0.0   \n",
      "\n",
      "                             zur  zürich  émile  état  über   на  \n",
      "52-hertz_whale               0.0     0.0    0.0   0.0   0.0  0.0  \n",
      "Bahia_incident               0.0     0.0    0.0   0.0   0.0  0.0  \n",
      "Arm-Fall-Off-Boy             0.0     0.0    0.0   0.0   0.0  0.0  \n",
      "Arrhichion                   0.0     0.0    0.0   0.0   0.0  0.0  \n",
      "Boston_Typewriter_Orchestra  0.0     0.0    0.0   0.0   0.0  0.0  \n",
      "\n",
      "[5 rows x 16878 columns]\n"
     ]
    }
   ],
   "source": [
    "df = pd.DataFrame(\n",
    "    vecs.todense(), columns=vectorizer.get_feature_names_out(), index=article_names)\n",
    "\n",
    "print(df.head())"
   ]
  },
  {
   "cell_type": "code",
   "execution_count": 8,
   "metadata": {},
   "outputs": [],
   "source": [
    "if os.path.exists('pca.pkl'):\n",
    "    with open('pca.pkl', 'rb') as f:\n",
    "        pca = pickle.load(f)\n",
    "else:\n",
    "    pca = PCA(n_components=0.95)\n",
    "\n",
    "    pca.fit(vecs.toarray())\n",
    "\n",
    "    with open('pca.pkl', 'wb') as f:\n",
    "        pickle.dump(pca, f)"
   ]
  },
  {
   "cell_type": "code",
   "execution_count": 9,
   "metadata": {},
   "outputs": [],
   "source": [
    "text_vecs = pca.transform(vecs.toarray())\n"
   ]
  },
  {
   "cell_type": "code",
   "execution_count": 10,
   "metadata": {},
   "outputs": [
    {
     "name": "stdout",
     "output_type": "stream",
     "text": [
      "                                 PCA0      PCA1      PCA2      PCA3      PCA4  \\\n",
      "52-hertz_whale               0.011716  0.000625 -0.076410  0.085735 -0.013533   \n",
      "Bahia_incident              -0.047358  0.035676  0.078935 -0.053133 -0.000148   \n",
      "Arm-Fall-Off-Boy             0.027157  0.071954 -0.037769 -0.091348 -0.080052   \n",
      "Arrhichion                   0.002715 -0.034423 -0.016036 -0.029755 -0.018316   \n",
      "Boston_Typewriter_Orchestra  0.021261  0.137421 -0.045881  0.040956  0.038937   \n",
      "\n",
      "                                 PCA5      PCA6      PCA7      PCA8      PCA9  \\\n",
      "52-hertz_whale              -0.035069  0.002725  0.005831 -0.013583  0.002069   \n",
      "Bahia_incident              -0.005015 -0.067471 -0.081275 -0.047213  0.052507   \n",
      "Arm-Fall-Off-Boy             0.068720  0.040147 -0.014021 -0.112190 -0.021576   \n",
      "Arrhichion                  -0.015143  0.004982  0.002989 -0.008746  0.010289   \n",
      "Boston_Typewriter_Orchestra -0.022230  0.060071  0.033001 -0.018949 -0.033331   \n",
      "\n",
      "                             ...   PCA2599   PCA2600   PCA2601   PCA2602  \\\n",
      "52-hertz_whale               ... -0.001330  0.005804 -0.007943 -0.018861   \n",
      "Bahia_incident               ...  0.004765  0.008243 -0.005703 -0.009724   \n",
      "Arm-Fall-Off-Boy             ... -0.017851  0.005272  0.004818 -0.005514   \n",
      "Arrhichion                   ...  0.013899 -0.002349 -0.001306 -0.001627   \n",
      "Boston_Typewriter_Orchestra  ...  0.011688 -0.001935  0.021499  0.011415   \n",
      "\n",
      "                              PCA2603   PCA2604   PCA2605   PCA2606   PCA2607  \\\n",
      "52-hertz_whale              -0.009949  0.015520  0.004533  0.004944  0.011173   \n",
      "Bahia_incident               0.010222  0.002324  0.002675  0.015293  0.011155   \n",
      "Arm-Fall-Off-Boy             0.024694 -0.008846  0.004877  0.006098  0.011752   \n",
      "Arrhichion                   0.010425  0.001173  0.007465 -0.001644  0.015150   \n",
      "Boston_Typewriter_Orchestra  0.002740  0.010744  0.002565  0.008635 -0.006409   \n",
      "\n",
      "                              PCA2608  \n",
      "52-hertz_whale               0.007013  \n",
      "Bahia_incident               0.013912  \n",
      "Arm-Fall-Off-Boy            -0.007250  \n",
      "Arrhichion                  -0.003346  \n",
      "Boston_Typewriter_Orchestra -0.007475  \n",
      "\n",
      "[5 rows x 2609 columns]\n"
     ]
    }
   ],
   "source": [
    "pca_df = pd.DataFrame(text_vecs, columns=[\n",
    "                      f'PCA{i}' for i in range(\n",
    "                          text_vecs.shape[1]\n",
    "                      )], index=article_names)\n",
    "print(pca_df.head())"
   ]
  },
  {
   "cell_type": "code",
   "execution_count": null,
   "metadata": {},
   "outputs": [],
   "source": [
    "with psycopg.connect(config[\"PG_URL\"]) as conn:\n",
    "    with conn.cursor() as cur:\n",
    "        for i, article in enumerate(article_names):\n",
    "            plain_list = text_vecs[i].tolist()\n",
    "            cur.execute(\n",
    "                \"\"\"\n",
    "                INSERT INTO unusual_search.embeddings (article_name, embedding_pca)\n",
    "                VALUES (%s, %s) ON CONFLICT (article_name) DO UPDATE SET embedding_tfidf = %s\n",
    "                \"\"\",\n",
    "                (article, plain_list, plain_list)\n",
    "            )\n",
    "            conn.commit()"
   ]
  }
 ],
 "metadata": {
  "kernelspec": {
   "display_name": ".venv",
   "language": "python",
   "name": "python3"
  },
  "language_info": {
   "codemirror_mode": {
    "name": "ipython",
    "version": 3
   },
   "file_extension": ".py",
   "mimetype": "text/x-python",
   "name": "python",
   "nbconvert_exporter": "python",
   "pygments_lexer": "ipython3",
   "version": "3.10.11"
  }
 },
 "nbformat": 4,
 "nbformat_minor": 2
}
